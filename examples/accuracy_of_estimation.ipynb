{
 "cells": [
  {
   "cell_type": "code",
   "execution_count": null,
   "metadata": {},
   "outputs": [],
   "source": [
    "using Pkg\n",
    "Pkg.activate(\"../\")\n",
    "\n",
    "using DataFrames\n",
    "\n",
    "using ConnectedInformation\n",
    "\n",
    "include(\"../src/entropy.jl\")\n",
    "using .Entropy: calculate_all_entropies\n",
    "\n",
    "include(\"../src/helpers.jl\")\n",
    "using .Helpers\n"
   ]
  },
  {
   "attachments": {},
   "cell_type": "markdown",
   "metadata": {},
   "source": [
    "## Comparison of real maximum entropy and its estimation "
   ]
  },
  {
   "cell_type": "code",
   "execution_count": 10,
   "metadata": {},
   "outputs": [
    {
     "data": {
      "text/html": [
       "<div><div style = \"float: left;\"><span>8×2 DataFrame</span></div><div style = \"clear: both;\"></div></div><div class = \"data-frame\" style = \"overflow-x: scroll;\"><table class = \"data-frame\" style = \"margin-bottom: 6px;\"><thead><tr class = \"header\"><th class = \"rowNumber\" style = \"font-weight: bold; text-align: right;\">Row</th><th style = \"text-align: left;\">entropy</th><th style = \"text-align: left;\">approximation</th></tr><tr class = \"subheader headerLastRow\"><th class = \"rowNumber\" style = \"font-weight: bold; text-align: right;\"></th><th title = \"Any\" style = \"text-align: left;\">Any</th><th title = \"Float64\" style = \"text-align: left;\">Float64</th></tr></thead><tbody><tr><td class = \"rowNumber\" style = \"font-weight: bold; text-align: right;\">1</td><td style = \"text-align: left;\">15.9999</td><td style = \"text-align: right;\">15.9999</td></tr><tr><td class = \"rowNumber\" style = \"font-weight: bold; text-align: right;\">2</td><td style = \"text-align: left;\">X</td><td style = \"text-align: right;\">15.9991</td></tr><tr><td class = \"rowNumber\" style = \"font-weight: bold; text-align: right;\">3</td><td style = \"text-align: left;\">X</td><td style = \"text-align: right;\">15.9978</td></tr><tr><td class = \"rowNumber\" style = \"font-weight: bold; text-align: right;\">4</td><td style = \"text-align: left;\">X</td><td style = \"text-align: right;\">15.9933</td></tr><tr><td class = \"rowNumber\" style = \"font-weight: bold; text-align: right;\">5</td><td style = \"text-align: left;\">X</td><td style = \"text-align: right;\">15.9869</td></tr><tr><td class = \"rowNumber\" style = \"font-weight: bold; text-align: right;\">6</td><td style = \"text-align: left;\">X</td><td style = \"text-align: right;\">15.9536</td></tr><tr><td class = \"rowNumber\" style = \"font-weight: bold; text-align: right;\">7</td><td style = \"text-align: left;\">X</td><td style = \"text-align: right;\">15.8256</td></tr><tr><td class = \"rowNumber\" style = \"font-weight: bold; text-align: right;\">8</td><td style = \"text-align: left;\">15.3912</td><td style = \"text-align: right;\">15.3912</td></tr></tbody></table></div>"
      ],
      "text/latex": [
       "\\begin{tabular}{r|cc}\n",
       "\t& entropy & approximation\\\\\n",
       "\t\\hline\n",
       "\t& Any & Float64\\\\\n",
       "\t\\hline\n",
       "\t1 & 15.9999 & 15.9999 \\\\\n",
       "\t2 & X & 15.9991 \\\\\n",
       "\t3 & X & 15.9978 \\\\\n",
       "\t4 & X & 15.9933 \\\\\n",
       "\t5 & X & 15.9869 \\\\\n",
       "\t6 & X & 15.9536 \\\\\n",
       "\t7 & X & 15.8256 \\\\\n",
       "\t8 & 15.3912 & 15.3912 \\\\\n",
       "\\end{tabular}\n"
      ],
      "text/plain": [
       "\u001b[1m8×2 DataFrame\u001b[0m\n",
       "\u001b[1m Row \u001b[0m│\u001b[1m entropy \u001b[0m\u001b[1m approximation \u001b[0m\n",
       "     │\u001b[90m Any     \u001b[0m\u001b[90m Float64       \u001b[0m\n",
       "─────┼────────────────────────\n",
       "   1 │ 15.9999        15.9999\n",
       "   2 │ X              15.9991\n",
       "   3 │ X              15.9978\n",
       "   4 │ X              15.9933\n",
       "   5 │ X              15.9869\n",
       "   6 │ X              15.9536\n",
       "   7 │ X              15.8256\n",
       "   8 │ 15.3912        15.3912"
      ]
     },
     "metadata": {},
     "output_type": "display_data"
    }
   ],
   "source": [
    "k = 8\n",
    "distr_cards = [4 for i=1:k]\n",
    "prob_table = generate_prob_table(distr_cards...)\n",
    "entropies = calculate_all_entropies(prob_table)\n",
    "\n",
    "max_entropy_approximations = estimate_max_entropies(k, distr_cards, entropies)\n",
    "\n",
    "# Making table\n",
    "table = Vector(undef, k)\n",
    "for i in collect(1:k)\n",
    "    if i == 1 \n",
    "        table[i] = Dict(\n",
    "            \"entropy\" => reduce(+, [entropies[[j]] for j=1:k]), \n",
    "            \"approximation\"=>max_entropy_approximations[1])\n",
    "    else \n",
    "        if i == k\n",
    "            table[i] = Dict(\n",
    "                \"entropy\" => entropies[collect(1:k)], \n",
    "                \"approximation\"=>max_entropy_approximations[k])\n",
    "        else\n",
    "            table[i] = Dict(\"entropy\" => \"X\", \"approximation\"=>max_entropy_approximations[i])\n",
    "        end\n",
    "    end\n",
    "end\n",
    "\n",
    "DataFrames.DataFrame(table[i] for i=1:k)"
   ]
  }
 ],
 "metadata": {
  "kernelspec": {
   "display_name": "Julia 1.8.5",
   "language": "julia",
   "name": "julia-1.8"
  },
  "language_info": {
   "file_extension": ".jl",
   "mimetype": "application/julia",
   "name": "julia",
   "version": "1.8.5"
  },
  "orig_nbformat": 4
 },
 "nbformat": 4,
 "nbformat_minor": 2
}
