{
 "cells": [
  {
   "attachments": {},
   "cell_type": "markdown",
   "metadata": {},
   "source": [
    "# Usage of Package\n",
    "\n",
    "### Import package in Notebook \n",
    "To activate enviroment from this folder and use `ConnectedInformation` package \n",
    "run following commands:"
   ]
  },
  {
   "cell_type": "code",
   "execution_count": 2,
   "metadata": {},
   "outputs": [
    {
     "name": "stderr",
     "output_type": "stream",
     "text": [
      "\u001b[32m\u001b[1m  Activating\u001b[22m\u001b[39m project at `~/Homework/Bachelor thesis/ConnectedInformation`\n"
     ]
    }
   ],
   "source": [
    "using Pkg\n",
    "Pkg.activate(\"../\")\n",
    "using ConnectedInformation"
   ]
  },
  {
   "attachments": {},
   "cell_type": "markdown",
   "metadata": {},
   "source": [
    "For examples we will calculate entropies for constraints from given\n",
    "distribution probabilities using Entropy module."
   ]
  },
  {
   "cell_type": "code",
   "execution_count": 3,
   "metadata": {},
   "outputs": [],
   "source": [
    "include(\"../src/entropy.jl\")\n",
    "using .Entropy: caluclate_all_entropies"
   ]
  },
  {
   "attachments": {},
   "cell_type": "markdown",
   "metadata": {},
   "source": [
    "### Estimating connected information\n",
    "Function `estimate_connected_information(k, distrs_card, entropy_constraints)` \n",
    "is used to estimate connected information, where\n",
    "- `k` is order of connected information needed to estiamte\n",
    "- `distrs_card` is vector of all distribution cardinalities\n",
    "- `entropy_constraints` is dictionary of constraints on entropies "
   ]
  },
  {
   "attachments": {},
   "cell_type": "markdown",
   "metadata": {},
   "source": [
    "##### Parity example\n",
    "$Y = X_1 \\oplus X_2 \\oplus X_3$\n",
    "| $X_1$ | $X_2$ | $X_3$ | $Y$ | $p$ |\n",
    "|---|---|---|---|---|\n",
    "| 0 | 0 | 0 | 0 | 1/8 |\n",
    "| 0 | 0 | 1 | 1 | 1/8 |\n",
    "| 0 | 1 | 0 | 1 | 1/8 |\n",
    "| 0 | 1 | 1 | 0 | 1/8 |\n",
    "| 1 | 0 | 0 | 1 | 1/8 |\n",
    "| 1 | 0 | 1 | 0 | 1/8 |\n",
    "| 1 | 1 | 0 | 0 | 1/8 |\n",
    "| 1 | 1 | 1 | 1 | 1/8 |\n"
   ]
  },
  {
   "cell_type": "code",
   "execution_count": 4,
   "metadata": {},
   "outputs": [
    {
     "data": {
      "text/plain": [
       "4-element Vector{Float64}:\n",
       " NaN\n",
       "   0.0\n",
       "   0.0\n",
       "   1.0"
      ]
     },
     "metadata": {},
     "output_type": "display_data"
    }
   ],
   "source": [
    "parity = zeros(Float64, 2, 2, 2, 2)\n",
    "parity[1, 1, 1, 1] = 1/8\n",
    "parity[1, 1, 2, 2] = 1/8\n",
    "parity[1, 2, 1, 2] = 1/8\n",
    "parity[1, 2, 2, 1] = 1/8\n",
    "parity[2, 1, 1, 2] = 1/8\n",
    "parity[2, 1, 2, 1] = 1/8\n",
    "parity[2, 2, 1, 1] = 1/8\n",
    "parity[2, 2, 2, 2] = 1/8\n",
    "\n",
    "entropies = caluclate_all_entropies(parity)        \n",
    "distr_cards = [2, 2, 2, 2]\n",
    "connected_information = estimate_connected_information(4, distr_cards, entropies)"
   ]
  },
  {
   "attachments": {},
   "cell_type": "markdown",
   "metadata": {},
   "source": [
    "##### Random values example"
   ]
  },
  {
   "cell_type": "code",
   "execution_count": 9,
   "metadata": {},
   "outputs": [
    {
     "data": {
      "text/plain": [
       "3×2×4 Array{Float64, 3}:\n",
       "[:, :, 1] =\n",
       " 0.0732422  0.0258789\n",
       " 0.124512   0.0473633\n",
       " 0.0322266  0.000976562\n",
       "\n",
       "[:, :, 2] =\n",
       " 0.0102539  0.00732422\n",
       " 0.0317383  0.120605\n",
       " 0.0791016  0.0595703\n",
       "\n",
       "[:, :, 3] =\n",
       " 0.00390625  0.0249023\n",
       " 0.0292969   0.00927734\n",
       " 0.0356445   0.0893555\n",
       "\n",
       "[:, :, 4] =\n",
       " 0.0209961  0.0439453\n",
       " 0.0839844  0.0219727\n",
       " 0.0136719  0.0102539"
      ]
     },
     "metadata": {},
     "output_type": "display_data"
    }
   ],
   "source": [
    "distr_cards = [3, 2, 4]\n",
    "rnd_values = Array{Float64,3}(undef, distr_cards...)\n",
    "rnd_values[:,:,1] = [0.0732422  0.0258789;\n",
    "                     0.124512   0.0473633;\n",
    "                     0.0322266  0.000976562]\n",
    "rnd_values[:,:,2] = [0.0102539  0.00732422;\n",
    "                     0.0317383  0.120605;\n",
    "                     0.0791016  0.0595703;]\n",
    "rnd_values[:,:,3] = [0.00390625  0.0249023;\n",
    "                     0.0292969   0.00927734;\n",
    "                     0.0356445   0.0893555]\n",
    "rnd_values[:,:,4] = [0.0209961  0.0439453;\n",
    "                     0.0839844  0.0219727;\n",
    "                     0.0136719  0.0102539]\n",
    "rnd_values"
   ]
  },
  {
   "cell_type": "code",
   "execution_count": 10,
   "metadata": {},
   "outputs": [
    {
     "data": {
      "text/plain": [
       "3-element Vector{Float64}:\n",
       " NaN\n",
       "   0.20138705009070534\n",
       "   0.17931841065010445"
      ]
     },
     "metadata": {},
     "output_type": "display_data"
    }
   ],
   "source": [
    "entropies = caluclate_all_entropies(rnd_values)\n",
    "connected_information = estimate_connected_information(3, distr_cards, entropies)"
   ]
  },
  {
   "attachments": {},
   "cell_type": "markdown",
   "metadata": {},
   "source": [
    "\n",
    "### Estimating maximum entropy\n",
    "Funtion `estimate_max_enthropy(k, distrs_card, entropy_constraints)` is used to \n",
    "estimate maximum entropy, where\n",
    "- `k` is order of entropy\n",
    "- `distrs_card` is vector with all distribution cardinalities\n",
    "- `entropy_constraints` is dictionary of constraints on entropies "
   ]
  },
  {
   "cell_type": "code",
   "execution_count": 7,
   "metadata": {},
   "outputs": [
    {
     "data": {
      "text/plain": [
       "3.0"
      ]
     },
     "metadata": {},
     "output_type": "display_data"
    }
   ],
   "source": [
    "distr_cards = [2, 2, 2, 2]\n",
    "\n",
    "parity = zeros(Float64, 2, 2, 2, 2)\n",
    "parity[1, 1, 1, 1] = 1/8\n",
    "parity[1, 1, 2, 2] = 1/8\n",
    "parity[1, 2, 1, 2] = 1/8\n",
    "parity[1, 2, 2, 1] = 1/8\n",
    "parity[2, 1, 1, 2] = 1/8\n",
    "parity[2, 1, 2, 1] = 1/8\n",
    "parity[2, 2, 1, 1] = 1/8\n",
    "parity[2, 2, 2, 2] = 1/8\n",
    "parity_entropies = caluclate_all_entropies(parity)\n",
    "\n",
    "estimate_max_enthropy(4, distr_cards, parity_entropies)"
   ]
  },
  {
   "attachments": {},
   "cell_type": "markdown",
   "metadata": {},
   "source": [
    "##### Result inaccuracy\n",
    " Sometimes function can return lower value than maximum possible entropy. \n",
    " In example below maximum possible entropy is 4, however, function returns \n",
    " a little smaller number. "
   ]
  },
  {
   "cell_type": "code",
   "execution_count": 8,
   "metadata": {},
   "outputs": [
    {
     "data": {
      "text/plain": [
       "3.9999999999996314"
      ]
     },
     "metadata": {},
     "output_type": "display_data"
    }
   ],
   "source": [
    "distr_cards = [2, 2, 2, 2]\n",
    "one_dim_entropies = Dict{Vector{Int64}, Float64}([1] => 1, [2] => 1, [3] => 1, [4] => 1)\n",
    "estimate_max_enthropy(1, distr_cards, one_dim_entropies)\n"
   ]
  },
  {
   "attachments": {},
   "cell_type": "markdown",
   "metadata": {},
   "source": [
    "Since `estimate_max_enthropy` function is used as part of connected information \n",
    "calculation, it is important to take this inaccuarcy into account.   \n",
    "Therefore, if entropy of the next order turns out to have larger value inside \n",
    "`estimate_connected_information` function due to estimation inaccuracy, \n",
    "then connected information of the next order is set to 0."
   ]
  }
 ],
 "metadata": {
  "kernelspec": {
   "display_name": "Julia 1.8.5",
   "language": "julia",
   "name": "julia-1.8"
  },
  "language_info": {
   "file_extension": ".jl",
   "mimetype": "application/julia",
   "name": "julia",
   "version": "1.8.5"
  },
  "orig_nbformat": 4
 },
 "nbformat": 4,
 "nbformat_minor": 2
}
