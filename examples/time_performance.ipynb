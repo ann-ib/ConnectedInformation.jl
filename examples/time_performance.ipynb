{
 "cells": [
  {
   "cell_type": "code",
   "execution_count": 4,
   "metadata": {},
   "outputs": [
    {
     "name": "stderr",
     "output_type": "stream",
     "text": [
      "\u001b[32m\u001b[1m  Activating\u001b[22m\u001b[39m project at `~/Homework/Bachelor_thesis/ConnectedInformation`\n"
     ]
    },
    {
     "name": "stderr",
     "output_type": "stream",
     "text": [
      "WARNING: replacing module Entropy.\n",
      "WARNING: ignoring conflicting import of Entropy.calculate_all_entropies into Main\n",
      "WARNING: replacing module Helpers.\n",
      "WARNING: using Helpers.generate_prob_table in module Main conflicts with an existing identifier.\n"
     ]
    }
   ],
   "source": [
    "using Pkg\n",
    "Pkg.activate(\"../\")\n",
    "\n",
    "using ConnectedInformation\n",
    "\n",
    "include(\"../src/entropy.jl\")\n",
    "using .Entropy: calculate_all_entropies\n",
    "\n",
    "include(\"../src/helpers.jl\")\n",
    "using .Helpers"
   ]
  },
  {
   "attachments": {},
   "cell_type": "markdown",
   "metadata": {},
   "source": [
    "## 10 random ternary variables"
   ]
  },
  {
   "cell_type": "code",
   "execution_count": 5,
   "metadata": {},
   "outputs": [
    {
     "data": {
      "text/plain": [
       "Dict{Vector{Int64}, Float64} with 1024 entries:\n",
       "  [1, 3, 5, 6, 10]          => 7.92184\n",
       "  [1, 3, 6, 7, 8]           => 7.92179\n",
       "  [1, 2, 3, 7, 8, 10]       => 9.50158\n",
       "  [1, 2, 3, 6]              => 6.33891\n",
       "  [1, 3, 4, 5, 7, 8, 10]    => 11.0691\n",
       "  [1, 2, 3, 4, 6, 8, 9, 10] => 12.6034\n",
       "  [4, 6, 8]                 => 4.7546\n",
       "  [2, 3, 4, 8, 9, 10]       => 9.50108\n",
       "  [1, 2, 5, 6, 9, 10]       => 9.50052\n",
       "  [1, 2, 5, 7, 10]          => 7.92169\n",
       "  [1, 2, 4, 5, 9]           => 7.92173\n",
       "  [2, 5, 7, 8, 10]          => 7.9222\n",
       "  [1, 3, 4, 5, 7, 10]       => 9.50101\n",
       "  [3, 4, 6, 7, 8, 9]        => 9.50113\n",
       "  [2, 3, 4, 5, 6, 7, 10]    => 11.0687\n",
       "  [2, 7, 10]                => 4.75453\n",
       "  [2, 3, 4, 5]              => 6.33882\n",
       "  [2, 3, 7, 9]              => 6.33905\n",
       "  [1, 2, 3, 6, 8]           => 7.92212\n",
       "  ⋮                         => ⋮"
      ]
     },
     "metadata": {},
     "output_type": "display_data"
    }
   ],
   "source": [
    "distr_cards_3_10 = [3 for i=1:10]\n",
    "prob_table_3_10 = generate_prob_table(distr_cards_3_10...)\n",
    "entropies_3_10 = calculate_all_entropies(prob_table_3_10)"
   ]
  },
  {
   "cell_type": "code",
   "execution_count": 6,
   "metadata": {},
   "outputs": [
    {
     "name": "stdout",
     "output_type": "stream",
     "text": [
      " 31.025169 seconds (2.26 M allocations: 154.487 MiB, 27.44% gc time)\n"
     ]
    },
    {
     "name": "stdout",
     "output_type": "stream",
     "text": [
      " 21.294612 seconds (21.72 M allocations: 1.437 GiB, 9.15% gc time)\n"
     ]
    },
    {
     "data": {
      "text/plain": [
       "10-element Vector{Float64}:\n",
       " 15.849454186311306\n",
       " 15.849048007978315\n",
       " 15.848412128496289\n",
       " 15.847170948823774\n",
       " 15.843109839032781\n",
       " 15.838830858921963\n",
       " 15.821413859775099\n",
       " 15.770381864995416\n",
       " 15.624067440597454\n",
       " 15.245036570143528"
      ]
     },
     "metadata": {},
     "output_type": "display_data"
    }
   ],
   "source": [
    "@time estimate_max_entropy(10, distr_cards_3_10, entropies_3_10)\n",
    "@time estimate_max_entropies(10, distr_cards_3_10, entropies_3_10)"
   ]
  },
  {
   "attachments": {},
   "cell_type": "markdown",
   "metadata": {},
   "source": [
    "Estimating all entropies should take around 6 seconds on slow machine, for one entropy ~2 seconds."
   ]
  },
  {
   "attachments": {},
   "cell_type": "markdown",
   "metadata": {},
   "source": [
    "## 10 random variables with 4 possible values"
   ]
  },
  {
   "cell_type": "code",
   "execution_count": null,
   "metadata": {},
   "outputs": [],
   "source": [
    "distr_cards_4_10 = [4 for i=1:10]\n",
    "prob_table_4_10 = generate_prob_table(distr_cards_4_10...)\n",
    "entropies_4_10 = calculate_all_entropies(prob_table_4_10)"
   ]
  },
  {
   "cell_type": "code",
   "execution_count": null,
   "metadata": {},
   "outputs": [],
   "source": [
    "@time estimate_max_entropies(10, distr_cards_4_10, entropies_4_10)"
   ]
  },
  {
   "attachments": {},
   "cell_type": "markdown",
   "metadata": {},
   "source": [
    "Estimating should take around 6 seconds on slow machine."
   ]
  },
  {
   "attachments": {},
   "cell_type": "markdown",
   "metadata": {},
   "source": [
    "## 10 random variables with 6 possible values"
   ]
  },
  {
   "cell_type": "code",
   "execution_count": 5,
   "metadata": {},
   "outputs": [
    {
     "data": {
      "text/plain": [
       "Dict{Vector{Int64}, Float64} with 1024 entries:\n",
       "  [1, 3, 5, 6, 10]          => 12.9247\n",
       "  [1, 3, 6, 7, 8]           => 12.9247\n",
       "  [1, 2, 3, 7, 8, 10]       => 15.5092\n",
       "  [1, 2, 3, 6]              => 10.3398\n",
       "  [1, 3, 4, 5, 7, 8, 10]    => 18.0914\n",
       "  [1, 2, 3, 4, 6, 8, 9, 10] => 20.6598\n",
       "  [4, 6, 8]                 => 7.75488\n",
       "  [2, 3, 4, 8, 9, 10]       => 15.5092\n",
       "  [1, 2, 5, 6, 9, 10]       => 15.5092\n",
       "  [1, 2, 5, 7, 10]          => 12.9247\n",
       "  [1, 2, 4, 5, 9]           => 12.9247\n",
       "  [2, 5, 7, 8, 10]          => 12.9247\n",
       "  [1, 3, 4, 5, 7, 10]       => 15.5092\n",
       "  [3, 4, 6, 7, 8, 9]        => 15.5092\n",
       "  [2, 3, 4, 5, 6, 7, 10]    => 18.0914\n",
       "  [2, 7, 10]                => 7.75488\n",
       "  [2, 3, 4, 5]              => 10.3398\n",
       "  [2, 3, 7, 9]              => 10.3398\n",
       "  [1, 2, 3, 6, 8]           => 12.9247\n",
       "  ⋮                         => ⋮"
      ]
     },
     "metadata": {},
     "output_type": "display_data"
    }
   ],
   "source": [
    "distr_cards_6_10 = [6 for i=1:10]\n",
    "prob_table_6_10 = generate_prob_table(distr_cards_6_10...)\n",
    "entropies_6_10 = calculate_all_entropies(prob_table_6_10)"
   ]
  },
  {
   "cell_type": "code",
   "execution_count": null,
   "metadata": {},
   "outputs": [],
   "source": [
    "@time estimate_max_entropies(10, distr_cards_6_10, entropies_6_10)"
   ]
  },
  {
   "attachments": {},
   "cell_type": "markdown",
   "metadata": {},
   "source": [
    "Estimating should take around 6 seconds on slow machine."
   ]
  },
  {
   "attachments": {},
   "cell_type": "markdown",
   "metadata": {},
   "source": [
    "## 15 random ternary variables\n",
    "Better not to try to generate data, it will take ~17 years."
   ]
  },
  {
   "cell_type": "code",
   "execution_count": 7,
   "metadata": {},
   "outputs": [
    {
     "data": {
      "text/plain": [
       "15-element Vector{Int64}:\n",
       " 3\n",
       " 3\n",
       " 3\n",
       " 3\n",
       " 3\n",
       " 3\n",
       " 3\n",
       " 3\n",
       " 3\n",
       " 3\n",
       " 3\n",
       " 3\n",
       " 3\n",
       " 3\n",
       " 3"
      ]
     },
     "metadata": {},
     "output_type": "display_data"
    }
   ],
   "source": [
    "distr_cards = [3 for i=1:15]\n",
    "# prob_table = generate_prob_table(distr_cards...)\n",
    "# entropies = calculate_all_entropies(prob_table)"
   ]
  },
  {
   "cell_type": "code",
   "execution_count": 9,
   "metadata": {},
   "outputs": [
    {
     "ename": "InterruptException",
     "evalue": "InterruptException:",
     "output_type": "error",
     "traceback": [
      "InterruptException:\n",
      "\n",
      "Stacktrace:\n",
      "  [1] sigatomic_end\n",
      "    @ ./c.jl:452 [inlined]\n",
      "  [2] disable_sigint\n",
      "    @ ./c.jl:475 [inlined]\n",
      "  [3] optimize(task::Mosek.Task)\n",
      "    @ Mosek ~/.julia/packages/Mosek/5QnPP/src/msk_functions.jl:2380\n",
      "  [4] optimize!(m::MosekTools.Optimizer)\n",
      "    @ MosekTools ~/.julia/packages/MosekTools/mFLX9/src/MosekTools.jl:316\n",
      "  [5] optimize!\n",
      "    @ ~/.julia/packages/MathOptInterface/wx5Ea/src/Bridges/bridge_optimizer.jl:376 [inlined]\n",
      "  [6] optimize!\n",
      "    @ ~/.julia/packages/MathOptInterface/wx5Ea/src/MathOptInterface.jl:85 [inlined]\n",
      "  [7] optimize!(m::MathOptInterface.Utilities.CachingOptimizer{MathOptInterface.Bridges.LazyBridgeOptimizer{MosekTools.Optimizer}, MathOptInterface.Utilities.UniversalFallback{MathOptInterface.Utilities.Model{Float64}}})\n",
      "    @ MathOptInterface.Utilities ~/.julia/packages/MathOptInterface/wx5Ea/src/Utilities/cachingoptimizer.jl:316\n",
      "  [8] optimize!(model::JuMP.Model; ignore_optimize_hook::Bool, _differentiation_backend::MathOptInterface.Nonlinear.SparseReverseMode, kwargs::Base.Pairs{Symbol, Union{}, Tuple{}, NamedTuple{(), Tuple{}}})\n",
      "    @ JuMP ~/.julia/packages/JuMP/9CBpS/src/optimizer_interface.jl:416\n",
      "  [9] optimize!\n",
      "    @ ~/.julia/packages/JuMP/9CBpS/src/optimizer_interface.jl:386 [inlined]\n",
      " [10] estimate_max_entropy(k::Int64, distr_cards::Vector{Int64}, entropy_constraints::Dict{Vector{Int64}, Float64}; lower_bound::Bool)\n",
      "    @ ConnectedInformation ~/Homework/Bachelor_thesis/ConnectedInformation/src/ConnectedInformation.jl:164\n",
      " [11] estimate_max_entropy\n",
      "    @ ~/Homework/Bachelor_thesis/ConnectedInformation/src/ConnectedInformation.jl:68 [inlined]\n",
      " [12] #3\n",
      "    @ ./none:0 [inlined]\n",
      " [13] iterate\n",
      "    @ ./generator.jl:47 [inlined]\n",
      " [14] collect(itr::Base.Generator{UnitRange{Int64}, ConnectedInformation.var\"#3#4\"{Bool, Vector{Int64}, Dict{Vector{Int64}, Float64}}})\n",
      "    @ Base ./array.jl:782\n",
      " [15] #estimate_max_entropies#2\n",
      "    @ ~/Homework/Bachelor_thesis/ConnectedInformation/src/ConnectedInformation.jl:54 [inlined]\n",
      " [16] estimate_max_entropies\n",
      "    @ ~/Homework/Bachelor_thesis/ConnectedInformation/src/ConnectedInformation.jl:50 [inlined]\n",
      " [17] top-level scope\n",
      "    @ ./timing.jl:273 [inlined]\n",
      " [18] top-level scope\n",
      "    @ ~/Homework/Bachelor_thesis/ConnectedInformation/examples/time_performance.ipynb:0"
     ]
    }
   ],
   "source": [
    "@time estimate_max_entropies(15, distr_cards, entropies_3_10)"
   ]
  }
 ],
 "metadata": {
  "kernelspec": {
   "display_name": "Julia 1.9.0",
   "language": "julia",
   "name": "julia-1.9"
  },
  "language_info": {
   "file_extension": ".jl",
   "mimetype": "application/julia",
   "name": "julia",
   "version": "1.9.0"
  },
  "orig_nbformat": 4
 },
 "nbformat": 4,
 "nbformat_minor": 2
}
