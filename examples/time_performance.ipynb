{
 "cells": [
  {
   "cell_type": "code",
   "execution_count": null,
   "metadata": {},
   "outputs": [],
   "source": [
    "using Pkg\n",
    "Pkg.activate(\"../\")\n",
    "\n",
    "using ConnectedInformation\n",
    "\n",
    "include(\"../src/entropy.jl\")\n",
    "using .Entropy: calculate_all_entropies\n",
    "\n",
    "include(\"../src/helpers.jl\")\n",
    "using .Helpers"
   ]
  },
  {
   "attachments": {},
   "cell_type": "markdown",
   "metadata": {},
   "source": [
    "## 10 random ternary variables\n",
    "Should be around 6 seconds on slow machine"
   ]
  },
  {
   "cell_type": "code",
   "execution_count": null,
   "metadata": {},
   "outputs": [],
   "source": [
    "distr_cards_3_10 = [3 for i=1:10]\n",
    "prob_table_3_10 = generate_prob_table(distr_cards_3_10...)\n",
    "entropies_3_10 = calculate_all_entropies(prob_table_3_10)"
   ]
  },
  {
   "cell_type": "code",
   "execution_count": null,
   "metadata": {},
   "outputs": [],
   "source": [
    "@time estimate_max_entropies(10, distr_cards_3_10, entropies_3_10)"
   ]
  },
  {
   "attachments": {},
   "cell_type": "markdown",
   "metadata": {},
   "source": [
    "## 10 random variables with 4 possible values\n",
    "Should be around 6 seconds on slow machine"
   ]
  },
  {
   "cell_type": "code",
   "execution_count": null,
   "metadata": {},
   "outputs": [],
   "source": [
    "distr_cards_4_10 = [4 for i=1:10]\n",
    "prob_table_4_10 = generate_prob_table(distr_cards_4_10...)\n",
    "entropies_4_10 = calculate_all_entropies(prob_table_4_10)"
   ]
  },
  {
   "cell_type": "code",
   "execution_count": null,
   "metadata": {},
   "outputs": [],
   "source": [
    "@time estimate_max_entropies(10, distr_cards_4_10, entropies_4_10)"
   ]
  },
  {
   "attachments": {},
   "cell_type": "markdown",
   "metadata": {},
   "source": [
    "## 10 random variables with 6 possible values\n",
    "Should be around 6 seconds on slow machine"
   ]
  },
  {
   "cell_type": "code",
   "execution_count": null,
   "metadata": {},
   "outputs": [],
   "source": [
    "distr_cards_6_10 = [6 for i=1:10]\n",
    "prob_table_6_10 = generate_prob_table(distr_cards_6_10...)\n",
    "entropies_6_10 = calculate_all_entropies(prob_table_6_10)"
   ]
  },
  {
   "cell_type": "code",
   "execution_count": null,
   "metadata": {},
   "outputs": [],
   "source": [
    "@time estimate_max_entropies(10, distr_cards_6_10, entropies_6_10)"
   ]
  },
  {
   "attachments": {},
   "cell_type": "markdown",
   "metadata": {},
   "source": [
    "## 15 random ternary variables\n",
    "Better not to try, it will take ~17 years to generate data"
   ]
  },
  {
   "cell_type": "code",
   "execution_count": null,
   "metadata": {},
   "outputs": [],
   "source": [
    "distr_cards = [3 for i=1:15]\n",
    "prob_table = generate_prob_table(distr_cards...)\n",
    "entropies = calculate_all_entropies(prob_table)"
   ]
  },
  {
   "cell_type": "code",
   "execution_count": null,
   "metadata": {},
   "outputs": [],
   "source": [
    "@time estimate_max_entropies(15, distr_cards, entropies)"
   ]
  }
 ],
 "metadata": {
  "kernelspec": {
   "display_name": "Julia 1.8.5",
   "language": "julia",
   "name": "julia-1.8"
  },
  "language_info": {
   "file_extension": ".jl",
   "mimetype": "application/julia",
   "name": "julia",
   "version": "1.8.5"
  },
  "orig_nbformat": 4
 },
 "nbformat": 4,
 "nbformat_minor": 2
}
