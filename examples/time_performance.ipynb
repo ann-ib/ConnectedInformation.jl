{
 "cells": [
  {
   "cell_type": "code",
   "execution_count": 1,
   "metadata": {},
   "outputs": [
    {
     "name": "stderr",
     "output_type": "stream",
     "text": [
      "\u001b[32m\u001b[1m  Activating\u001b[22m\u001b[39m project at `~/Homework/Bachelor_thesis/ConnectedInformation`\n"
     ]
    }
   ],
   "source": [
    "using Pkg\n",
    "Pkg.activate(\"../\")\n",
    "\n",
    "using ConnectedInformation\n",
    "\n",
    "include(\"../src/entropy.jl\")\n",
    "using .Entropy: calculate_all_entropies\n",
    "\n",
    "include(\"../src/helpers.jl\")\n",
    "using .Helpers"
   ]
  },
  {
   "attachments": {},
   "cell_type": "markdown",
   "metadata": {},
   "source": [
    "## 10 random ternary variables"
   ]
  },
  {
   "cell_type": "code",
   "execution_count": 2,
   "metadata": {},
   "outputs": [
    {
     "data": {
      "text/plain": [
       "Dict{Vector{Int64}, Float64} with 1024 entries:\n",
       "  [1, 3, 5, 6, 10]          => 7.92185\n",
       "  [1, 3, 6, 7, 8]           => 7.92182\n",
       "  [1, 2, 3, 7, 8, 10]       => 9.50168\n",
       "  [1, 2, 3, 6]              => 6.33889\n",
       "  [1, 3, 4, 5, 7, 8, 10]    => 11.068\n",
       "  [1, 2, 3, 4, 6, 8, 9, 10] => 12.601\n",
       "  [4, 6, 8]                 => 4.75458\n",
       "  [2, 3, 4, 8, 9, 10]       => 9.50029\n",
       "  [1, 2, 5, 6, 9, 10]       => 9.50116\n",
       "  [1, 2, 5, 7, 10]          => 7.92167\n",
       "  [1, 2, 4, 5, 9]           => 7.92189\n",
       "  [2, 5, 7, 8, 10]          => 7.92206\n",
       "  [1, 3, 4, 5, 7, 10]       => 9.50081\n",
       "  [3, 4, 6, 7, 8, 9]        => 9.5004\n",
       "  [2, 3, 4, 5, 6, 7, 10]    => 11.0682\n",
       "  [2, 7, 10]                => 4.75458\n",
       "  [2, 3, 4, 5]              => 6.3389\n",
       "  [2, 3, 7, 9]              => 6.3389\n",
       "  [1, 2, 3, 6, 8]           => 7.92199\n",
       "  ⋮                         => ⋮"
      ]
     },
     "metadata": {},
     "output_type": "display_data"
    }
   ],
   "source": [
    "distr_cards_3_10 = [3 for i=1:10]\n",
    "prob_table_3_10 = generate_prob_table(distr_cards...)\n",
    "entropies_3_10 = calculate_all_entropies(prob_table)"
   ]
  },
  {
   "cell_type": "code",
   "execution_count": 4,
   "metadata": {},
   "outputs": [
    {
     "name": "stdout",
     "output_type": "stream",
     "text": [
      "  6.121439 seconds (23.08 M allocations: 1.462 GiB, 7.06% gc time)\n"
     ]
    },
    {
     "data": {
      "text/plain": [
       "10-element Vector{Float64}:\n",
       " 15.849405791471142\n",
       " 15.848924855775277\n",
       " 15.848347091449988\n",
       " 15.846843699396839\n",
       " 15.842835481422338\n",
       " 15.83845322514408\n",
       " 15.821430836392615\n",
       " 15.768122758105097\n",
       " 15.619924613288212\n",
       " 15.239320761591006"
      ]
     },
     "metadata": {},
     "output_type": "display_data"
    }
   ],
   "source": [
    "@time estimate_max_entropies(10, distr_cards_3_10, entropies_3_10)"
   ]
  },
  {
   "attachments": {},
   "cell_type": "markdown",
   "metadata": {},
   "source": [
    "## 15 random ternary variables"
   ]
  },
  {
   "cell_type": "code",
   "execution_count": 5,
   "metadata": {},
   "outputs": [
    {
     "ename": "InterruptException",
     "evalue": "InterruptException:",
     "output_type": "error",
     "traceback": [
      "InterruptException:\n",
      "\n",
      "Stacktrace:\n",
      " [1] _reduce_prob_table(probability_table::Array{Float64, 15}, choosen_distributions::Vector{Int64})\n",
      "   @ Main.Entropy ~/Homework/Bachelor_thesis/ConnectedInformation/src/entropy.jl:70\n",
      " [2] calculate_all_entropies(probability_table::Array{Float64, 15})\n",
      "   @ Main.Entropy ~/Homework/Bachelor_thesis/ConnectedInformation/src/entropy.jl:21\n",
      " [3] top-level scope\n",
      "   @ ~/Homework/Bachelor_thesis/ConnectedInformation/examples/time_performance.ipynb:3"
     ]
    }
   ],
   "source": [
    "distr_cards = [3 for i=1:15]\n",
    "prob_table = generate_prob_table(distr_cards...)\n",
    "entropies = calculate_all_entropies(prob_table)"
   ]
  },
  {
   "cell_type": "code",
   "execution_count": null,
   "metadata": {},
   "outputs": [],
   "source": [
    "@time estimate_max_entropies(15, distr_cards, entropies)"
   ]
  }
 ],
 "metadata": {
  "kernelspec": {
   "display_name": "Julia 1.8.5",
   "language": "julia",
   "name": "julia-1.8"
  },
  "language_info": {
   "file_extension": ".jl",
   "mimetype": "application/julia",
   "name": "julia",
   "version": "1.8.5"
  },
  "orig_nbformat": 4
 },
 "nbformat": 4,
 "nbformat_minor": 2
}
